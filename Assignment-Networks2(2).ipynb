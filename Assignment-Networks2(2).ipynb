{
 "cells": [
  {
   "cell_type": "markdown",
   "metadata": {
    "deletable": false,
    "editable": false,
    "nbgrader": {
     "cell_type": "markdown",
     "checksum": "5bfa6795724d75f70c84d3c00d2b1e70",
     "grade": false,
     "grade_id": "cell-bcf6543c144560bd",
     "locked": true,
     "schema_version": 3,
     "solution": false,
     "task": false
    }
   },
   "source": [
    "# Assignment 2 - Network Connectivity\n",
    "\n",
    "In this assignment you will go through the process of importing and analyzing an internal email communication network between employees of a mid-sized manufacturing company. \n",
    "Each node represents an employee and each directed edge between two nodes represents an individual email. The left node represents the sender and the right node represents the recipient. We will also store the timestamp of each email. "
   ]
  },
  {
   "cell_type": "code",
   "execution_count": 3,
   "metadata": {
    "deletable": false,
    "editable": false,
    "nbgrader": {
     "cell_type": "code",
     "checksum": "40cd5d39e43b4cd59854e53a0b5dc998",
     "grade": false,
     "grade_id": "cell-9e91202e381afe24",
     "locked": true,
     "schema_version": 3,
     "solution": false,
     "task": false
    }
   },
   "outputs": [],
   "source": [
    "import networkx as nx\n",
    "\n",
    "#!head assets/email_network.txt"
   ]
  },
  {
   "cell_type": "markdown",
   "metadata": {
    "deletable": false,
    "editable": false,
    "nbgrader": {
     "cell_type": "markdown",
     "checksum": "ff79eb68a30fc6af89c7c32502673381",
     "grade": false,
     "grade_id": "cell-69088792fe9c29ab",
     "locked": true,
     "schema_version": 3,
     "solution": false,
     "task": false
    }
   },
   "source": [
    "### Question 1\n",
    "\n",
    "Using networkx, load up the directed multigraph from `assets/email_network.txt`. Make sure the node names are strings.\n",
    "\n",
    "*This function should return a directed multigraph networkx graph.*"
   ]
  },
  {
   "cell_type": "code",
   "execution_count": 8,
   "metadata": {
    "deletable": false,
    "nbgrader": {
     "cell_type": "code",
     "checksum": "1101b24702e1ba3199cead81dd86aa96",
     "grade": false,
     "grade_id": "cell-60316968695c6f20",
     "locked": false,
     "schema_version": 3,
     "solution": true,
     "task": false
    }
   },
   "outputs": [],
   "source": [
    "def answer_one():\n",
    "    \n",
    "    #import data as dataframe\n",
    "    import pandas as pd\n",
    "    email_data = 'assets/email_network.txt'\n",
    "    email_df = pd.read_csv(email_data, delimiter='\\t').astype(str)\n",
    "    \n",
    "    # create graph from dataframe;\n",
    "    graph = nx.from_pandas_edgelist(email_df, source='#Sender', target='Recipient', edge_attr='time', create_using=nx.MultiDiGraph())\n",
    "    \n",
    "    # raise NotImplementedError()\n",
    "    \n",
    "    # Testing\n",
    "    # print(f'Is Multigraph: {graph.is_multigraph()}')\n",
    "    # print(f'Is Digraph: {graph.is_directed()}')\n",
    "    # print(f'Num verts: {len(graph.nodes)}')\n",
    "    # print(f'Num Edge: {len(graph.edges)}')\n",
    "    # print(f'Datatype: {email_df.dtypes}')\n",
    "    # print(f'Node dtypes: {type(list(graph.nodes)[0])}')\n",
    "    \n",
    "    return graph\n",
    "\n",
    "# answer_one()"
   ]
  },
  {
   "cell_type": "code",
   "execution_count": 81,
   "metadata": {
    "deletable": false,
    "editable": false,
    "nbgrader": {
     "cell_type": "code",
     "checksum": "4e333a60970e701c597c3df9e7f0cf73",
     "grade": true,
     "grade_id": "cell-483a56c89f9db231",
     "locked": true,
     "points": 0,
     "schema_version": 3,
     "solution": false,
     "task": false
    }
   },
   "outputs": [],
   "source": [
    "ans_one = answer_one()"
   ]
  },
  {
   "cell_type": "markdown",
   "metadata": {
    "deletable": false,
    "editable": false,
    "nbgrader": {
     "cell_type": "markdown",
     "checksum": "a25a5fcea997943800881830337a3e57",
     "grade": false,
     "grade_id": "cell-11f1e6ec696e3aa9",
     "locked": true,
     "schema_version": 3,
     "solution": false,
     "task": false
    }
   },
   "source": [
    "### Question 2\n",
    "\n",
    "How many employees are represented in the network?\n",
    "\n",
    "How many `sender`->`recepient` pairs of employees are there in the network such that `sender` sent at least one email to `recepient`? Note that even if a `sender` sent multiple messages to a `recepient`, they should only be counted once. You should exclude cases where an employee sent emails to themselves from this count. \n",
    "\n",
    "*This function should return a tuple with two integers (#employees, # `sender`->`recepient` pairs).*"
   ]
  },
  {
   "cell_type": "code",
   "execution_count": 10,
   "metadata": {
    "deletable": false,
    "nbgrader": {
     "cell_type": "code",
     "checksum": "662810a3dcb753594e02ca98590b1623",
     "grade": false,
     "grade_id": "cell-16a78f22207d9f95",
     "locked": false,
     "schema_version": 3,
     "solution": true,
     "task": false
    }
   },
   "outputs": [
    {
     "name": "stdout",
     "output_type": "stream",
     "text": [
      "Is Multigraph: False\n",
      "Is Digraph: True\n",
      "Num verts: 167\n",
      "Num Edge: 5784\n"
     ]
    },
    {
     "data": {
      "text/plain": [
       "(167, 5784)"
      ]
     },
     "execution_count": 10,
     "metadata": {},
     "output_type": "execute_result"
    }
   ],
   "source": [
    "def answer_two():\n",
    "    \n",
    "    graph = answer_one()\n",
    "    \n",
    "    # number of employees\n",
    "    # number of vertices in the graph\n",
    "    num_employees = len(list(graph.nodes))\n",
    "    \n",
    "    \n",
    "#     # number of sender/recipient pairs\n",
    "#     # method 1: count manually\n",
    "    \n",
    "#     unique_connections = [e for e in graph.edges if e[0] != e[1]]\n",
    "#     num_pairs = len(unique_connections)\n",
    "    \n",
    "    \n",
    "    # number of sender/recipient pairs\n",
    "    # method 2: convert to other type of graph\n",
    "    \n",
    "    # graph = nx.Graph(graph)\n",
    "    # num_pairs_2 = len(graph.edges)\n",
    "    \n",
    "    graph = nx.DiGraph(graph)\n",
    "    num_pairs_2 = len(graph.edges)\n",
    "    \n",
    "    # Testing\n",
    "    # print(f'Is Multigraph: {graph.is_multigraph()}')\n",
    "    # print(f'Is Digraph: {graph.is_directed()}')\n",
    "    # print(f'Num verts: {len(graph.nodes)}')\n",
    "    # print(f'Num Edge: {len(graph.edges)}')\n",
    "    # print(f'Datatype: {email_df.dtypes}')\n",
    "    # print(f'Node dtypes: {type(list(graph.nodes)[0])}')\n",
    "    \n",
    "#     # verification: same answer using both methods?\n",
    "#     print(f'Method 1 num connections: {num_pairs}')\n",
    "#     print(f'Method 2 num connections: {num_pairs_2}')\n",
    "#     print(f'Consistent? {num_pairs == num_pairs_2}')\n",
    "    \n",
    "\n",
    "\n",
    "    # raise NotImplementedError()\n",
    "    return (num_employees, num_pairs_2)\n",
    "\n",
    "answer_two()"
   ]
  },
  {
   "cell_type": "code",
   "execution_count": null,
   "metadata": {
    "deletable": false,
    "editable": false,
    "nbgrader": {
     "cell_type": "code",
     "checksum": "ddf5c3a58fbd1cbcd80e38f2bf077d48",
     "grade": true,
     "grade_id": "cell-5b6391549b076d2b",
     "locked": true,
     "points": 1,
     "schema_version": 3,
     "solution": false,
     "task": false
    }
   },
   "outputs": [],
   "source": [
    "ans_two = answer_two()\n"
   ]
  },
  {
   "cell_type": "markdown",
   "metadata": {
    "deletable": false,
    "editable": false,
    "nbgrader": {
     "cell_type": "markdown",
     "checksum": "775a110305b6e9aa2fb281392edef295",
     "grade": false,
     "grade_id": "cell-760dca5a483f4568",
     "locked": true,
     "schema_version": 3,
     "solution": false,
     "task": false
    }
   },
   "source": [
    "### Question 3\n",
    "\n",
    "* Part 1. Assume that information in this company can only be exchanged through email.\n",
    "\n",
    "    When an employee sends an email to another employee, a communication channel has been created, allowing the sender to provide information to the reciever, but not viceversa. \n",
    "\n",
    "    Based on the emails sent in the data, is it possible for information to go from every employee to every other employee?\n",
    "\n",
    "\n",
    "* Part 2. Now assume that a communication channel established by an email allows information to be exchanged both ways. \n",
    "\n",
    "    Based on the emails sent in the data, is it possible for information to go from every employee to every other employee?\n",
    "\n",
    "\n",
    "*This function should return a tuple of bools (part1, part2).*"
   ]
  },
  {
   "cell_type": "code",
   "execution_count": 83,
   "metadata": {
    "deletable": false,
    "nbgrader": {
     "cell_type": "code",
     "checksum": "88459b15b88d56d06d591a24c2242679",
     "grade": false,
     "grade_id": "cell-606dd37fb2f55358",
     "locked": false,
     "schema_version": 3,
     "solution": true,
     "task": false
    }
   },
   "outputs": [
    {
     "data": {
      "text/plain": [
       "(False, True)"
      ]
     },
     "execution_count": 83,
     "metadata": {},
     "output_type": "execute_result"
    }
   ],
   "source": [
    "def answer_three():\n",
    "    \n",
    "    # MultiDiGraph\n",
    "    # test if there are multiple edges\n",
    "    graph = answer_one()\n",
    "\n",
    "    \n",
    "    # test to see if strongly connected\n",
    "    # print('Is strongly connected:', nx.is_strongly_connected(graph))\n",
    "    # print('Is weakly connected:', nx.is_weakly_connected(graph))\n",
    "    \n",
    "    # raise NotImplementedError()\n",
    "    return (nx.is_strongly_connected(graph), nx.is_weakly_connected(graph))\n",
    "\n",
    "# answer_three()"
   ]
  },
  {
   "cell_type": "code",
   "execution_count": 84,
   "metadata": {
    "deletable": false,
    "editable": false,
    "nbgrader": {
     "cell_type": "code",
     "checksum": "4788aac112a53b813b71af67be67ca9e",
     "grade": true,
     "grade_id": "cell-82b3f0bc45e2895f",
     "locked": true,
     "points": 1,
     "schema_version": 3,
     "solution": false,
     "task": false
    }
   },
   "outputs": [],
   "source": [
    "ans_three = answer_three()\n"
   ]
  },
  {
   "cell_type": "markdown",
   "metadata": {
    "deletable": false,
    "editable": false,
    "nbgrader": {
     "cell_type": "markdown",
     "checksum": "7c25ee0ca47a08a288af724766a5294f",
     "grade": false,
     "grade_id": "cell-d9b0ca65d16c2ee0",
     "locked": true,
     "schema_version": 3,
     "solution": false,
     "task": false
    }
   },
   "source": [
    "### Question 4\n",
    "\n",
    "How many nodes are in the largest weakly connected component of the graph?\n",
    "\n",
    "*This function should return an int.*"
   ]
  },
  {
   "cell_type": "code",
   "execution_count": 85,
   "metadata": {
    "deletable": false,
    "nbgrader": {
     "cell_type": "code",
     "checksum": "4cf514895a205644e3d580ea16e86aba",
     "grade": false,
     "grade_id": "cell-39196f4c27b35534",
     "locked": false,
     "schema_version": 3,
     "solution": true,
     "task": false
    }
   },
   "outputs": [
    {
     "data": {
      "text/plain": [
       "167"
      ]
     },
     "execution_count": 85,
     "metadata": {},
     "output_type": "execute_result"
    }
   ],
   "source": [
    "def answer_four():\n",
    "    \n",
    "    graph = answer_one()\n",
    "    \n",
    "    # raise NotImplementedError()\n",
    "    list(nx.strongly_connected_components(graph))\n",
    "    \n",
    "    return len(max(nx.weakly_connected_components(graph)))\n",
    "\n",
    "# answer_four()"
   ]
  },
  {
   "cell_type": "code",
   "execution_count": 86,
   "metadata": {
    "deletable": false,
    "editable": false,
    "nbgrader": {
     "cell_type": "code",
     "checksum": "12b2e05c4fee3be94595b750cd938701",
     "grade": true,
     "grade_id": "cell-2b1b7b06ecfa751d",
     "locked": true,
     "points": 1,
     "schema_version": 3,
     "solution": false,
     "task": false
    }
   },
   "outputs": [],
   "source": [
    "ans_four = answer_four()"
   ]
  },
  {
   "cell_type": "markdown",
   "metadata": {
    "deletable": false,
    "editable": false,
    "nbgrader": {
     "cell_type": "markdown",
     "checksum": "cc1c0bdcb9dd2c876d85137d70e1aab1",
     "grade": false,
     "grade_id": "cell-1b5fcc6fe87939a4",
     "locked": true,
     "schema_version": 3,
     "solution": false,
     "task": false
    }
   },
   "source": [
    "### Question 5\n",
    "\n",
    "How many nodes are in the largest strongly connected component?\n",
    "\n",
    "*This function should return an int*"
   ]
  },
  {
   "cell_type": "code",
   "execution_count": 87,
   "metadata": {
    "deletable": false,
    "nbgrader": {
     "cell_type": "code",
     "checksum": "2accc10e029b68b86157ee3e7630483a",
     "grade": false,
     "grade_id": "cell-879d17a9db5c3790",
     "locked": false,
     "schema_version": 3,
     "solution": true,
     "task": false
    }
   },
   "outputs": [],
   "source": [
    "def answer_five():\n",
    "    \n",
    "    graph = answer_one()\n",
    "    \n",
    "    largest = max(nx.strongly_connected_components(graph), key=len)\n",
    "    # raise NotImplementedError()\n",
    "    \n",
    "    return len(largest)\n",
    "# answer_five()"
   ]
  },
  {
   "cell_type": "code",
   "execution_count": 88,
   "metadata": {
    "deletable": false,
    "editable": false,
    "nbgrader": {
     "cell_type": "code",
     "checksum": "f23781489340663ca5f29018a84eba94",
     "grade": true,
     "grade_id": "cell-b0524f7dc1fbdec4",
     "locked": true,
     "points": 1,
     "schema_version": 3,
     "solution": false,
     "task": false
    }
   },
   "outputs": [],
   "source": [
    "ans_five = answer_five()\n"
   ]
  },
  {
   "cell_type": "markdown",
   "metadata": {
    "deletable": false,
    "editable": false,
    "nbgrader": {
     "cell_type": "markdown",
     "checksum": "128ce743a125fe1aa44ef059e9c3a580",
     "grade": false,
     "grade_id": "cell-0e161383c4c5f256",
     "locked": true,
     "schema_version": 3,
     "solution": false,
     "task": false
    }
   },
   "source": [
    "### Question 6\n",
    "\n",
    "Using the NetworkX functions `strongly_connected_components` and `subgraph`, find the subgraph of nodes in the largest strongly connected component. \n",
    "Call this graph G_sc.\n",
    "\n",
    "*This function should return a networkx MultiDiGraph named G_sc.*"
   ]
  },
  {
   "cell_type": "code",
   "execution_count": 101,
   "metadata": {
    "deletable": false,
    "nbgrader": {
     "cell_type": "code",
     "checksum": "07492ff7a3eddcbf2d61c4827c12bcf9",
     "grade": false,
     "grade_id": "cell-a81e6f88ef84578c",
     "locked": false,
     "schema_version": 3,
     "solution": true,
     "task": false
    }
   },
   "outputs": [
    {
     "name": "stdout",
     "output_type": "stream",
     "text": [
      "Is Multigraph: True\n",
      "Is Digraph: True\n",
      "Num verts: 167\n",
      "Num Edge: 82927\n",
      "Is strongly connected: True\n",
      "Is Multigraph: True\n",
      "Is directed: True\n"
     ]
    },
    {
     "data": {
      "text/plain": [
       "<networkx.classes.multidigraph.MultiDiGraph at 0x7fcd91a0b4c0>"
      ]
     },
     "execution_count": 101,
     "metadata": {},
     "output_type": "execute_result"
    }
   ],
   "source": [
    "def answer_six():\n",
    "    graph = answer_one()\n",
    "    \n",
    "    max_scc = max(nx.strongly_connected_components(graph), key=len)\n",
    "    \n",
    "    G_sc = nx.subgraph(graph, max_scc)\n",
    "    # raise NotImplementedError()\n",
    "    \n",
    "    # test\n",
    "    print(f'Is strongly connected: {nx.is_strongly_connected(G_sc)}')\n",
    "    print(f'Is Multigraph: {G_sc.is_multigraph()}')\n",
    "    print(f'Is directed: {G_sc.is_directed()}')\n",
    "    \n",
    "    return G_sc\n",
    "# answer_six()"
   ]
  },
  {
   "cell_type": "code",
   "execution_count": 90,
   "metadata": {
    "deletable": false,
    "editable": false,
    "nbgrader": {
     "cell_type": "code",
     "checksum": "e343cae1f5bc21b64bc62c1b2774b6bf",
     "grade": true,
     "grade_id": "cell-cf148ef273b3b19c",
     "locked": true,
     "points": 0,
     "schema_version": 3,
     "solution": false,
     "task": false
    }
   },
   "outputs": [],
   "source": [
    "ans_six = answer_six()\n",
    "assert type(ans_six) == nx.MultiDiGraph , \"Your return type should be a MultiDiGraph object\"\n"
   ]
  },
  {
   "cell_type": "markdown",
   "metadata": {
    "deletable": false,
    "editable": false,
    "nbgrader": {
     "cell_type": "markdown",
     "checksum": "845d7583667a0e39c27767bb1b4a86e9",
     "grade": false,
     "grade_id": "cell-9387495324d723ab",
     "locked": true,
     "schema_version": 3,
     "solution": false,
     "task": false
    }
   },
   "source": [
    "### Question 7\n",
    "\n",
    "What is the average distance between nodes in G_sc?\n",
    "\n",
    "*This function should return a float.*"
   ]
  },
  {
   "cell_type": "code",
   "execution_count": 92,
   "metadata": {
    "deletable": false,
    "nbgrader": {
     "cell_type": "code",
     "checksum": "8631976ef4da84e8717fb0208ec2d22e",
     "grade": false,
     "grade_id": "cell-1a3075039b3c2c0b",
     "locked": false,
     "schema_version": 3,
     "solution": true,
     "task": false
    }
   },
   "outputs": [],
   "source": [
    "def answer_seven():\n",
    "    \n",
    "    graph = answer_six()\n",
    "    \n",
    "    # raise NotImplementedError()\n",
    "    \n",
    "    return nx.average_shortest_path_length(graph)\n",
    "\n",
    "# answer_seven()"
   ]
  },
  {
   "cell_type": "code",
   "execution_count": 93,
   "metadata": {
    "deletable": false,
    "editable": false,
    "nbgrader": {
     "cell_type": "code",
     "checksum": "6677cc4f43e9d111105b44bb7cdf8609",
     "grade": true,
     "grade_id": "cell-5b374fdd48f37e02",
     "locked": true,
     "points": 1,
     "schema_version": 3,
     "solution": false,
     "task": false
    }
   },
   "outputs": [],
   "source": [
    "ans_seven = answer_seven()\n"
   ]
  },
  {
   "cell_type": "markdown",
   "metadata": {
    "deletable": false,
    "editable": false,
    "nbgrader": {
     "cell_type": "markdown",
     "checksum": "fa6cadc7a93e03a6a254d4050f8fab2a",
     "grade": false,
     "grade_id": "cell-a304dbc2b7d1b98e",
     "locked": true,
     "schema_version": 3,
     "solution": false,
     "task": false
    }
   },
   "source": [
    "### Question 8\n",
    "\n",
    "What is the largest possible distance between two employees in G_sc?\n",
    "\n",
    "*This function should return an int.*"
   ]
  },
  {
   "cell_type": "code",
   "execution_count": 94,
   "metadata": {
    "deletable": false,
    "nbgrader": {
     "cell_type": "code",
     "checksum": "a78edcff07c4635e0713d76acbd36d2c",
     "grade": false,
     "grade_id": "cell-4fbb8d34d00f675c",
     "locked": false,
     "schema_version": 3,
     "solution": true,
     "task": false
    }
   },
   "outputs": [],
   "source": [
    "def answer_eight():\n",
    "    graph = answer_six()\n",
    "    \n",
    "    # raise NotImplementedError()\n",
    "    \n",
    "    return nx.diameter(graph)\n",
    "\n",
    "# answer_eight()"
   ]
  },
  {
   "cell_type": "code",
   "execution_count": 95,
   "metadata": {
    "deletable": false,
    "editable": false,
    "nbgrader": {
     "cell_type": "code",
     "checksum": "fa86a0206feb865d2c6d7406c70ee95d",
     "grade": true,
     "grade_id": "cell-c5714787854ef644",
     "locked": true,
     "points": 1,
     "schema_version": 3,
     "solution": false,
     "task": false
    }
   },
   "outputs": [],
   "source": [
    "ans_eight = answer_eight()\n"
   ]
  },
  {
   "cell_type": "markdown",
   "metadata": {
    "deletable": false,
    "editable": false,
    "nbgrader": {
     "cell_type": "markdown",
     "checksum": "a139709cb2fd06ab0c9b63bf6d2b70d6",
     "grade": false,
     "grade_id": "cell-1c5b2a30c314c4ed",
     "locked": true,
     "schema_version": 3,
     "solution": false,
     "task": false
    }
   },
   "source": [
    "### Question 9\n",
    "\n",
    "What is the set of nodes in G_sc with eccentricity equal to the diameter?\n",
    "\n",
    "*This function should return a set of the node(s).*"
   ]
  },
  {
   "cell_type": "code",
   "execution_count": 96,
   "metadata": {
    "deletable": false,
    "nbgrader": {
     "cell_type": "code",
     "checksum": "35f309003a3d44dcc3f8617731106c80",
     "grade": false,
     "grade_id": "cell-bcfab850744277ed",
     "locked": false,
     "schema_version": 3,
     "solution": true,
     "task": false
    }
   },
   "outputs": [],
   "source": [
    "def answer_nine():\n",
    "    graph = answer_six()\n",
    "    \n",
    "    # raise NotImplementedError()\n",
    "    \n",
    "    nodes = nx.periphery(graph)\n",
    "    \n",
    "    # test, comment out\n",
    "    # nodes = nx.center(graph)\n",
    "    \n",
    "    return set(nodes)\n",
    "\n",
    "# answer_nine()"
   ]
  },
  {
   "cell_type": "code",
   "execution_count": 97,
   "metadata": {
    "deletable": false,
    "editable": false,
    "nbgrader": {
     "cell_type": "code",
     "checksum": "ca8982a55c3502ea5a1de56ba08392f2",
     "grade": true,
     "grade_id": "cell-77c9ca0b94df3d6f",
     "locked": true,
     "points": 1,
     "schema_version": 3,
     "solution": false,
     "task": false
    }
   },
   "outputs": [],
   "source": [
    "ans_nine = answer_nine()\n",
    "assert type(ans_nine) == set, \"Student answer must return a set\""
   ]
  },
  {
   "cell_type": "markdown",
   "metadata": {
    "deletable": false,
    "editable": false,
    "nbgrader": {
     "cell_type": "markdown",
     "checksum": "f35267d67af1d1cf6ed49fd791bcc0d6",
     "grade": false,
     "grade_id": "cell-0981d0d45c6b9300",
     "locked": true,
     "schema_version": 3,
     "solution": false,
     "task": false
    },
    "tags": []
   },
   "source": [
    "### Question 10\n",
    "\n",
    "What is the set of node(s) in G_sc with eccentricity equal to the radius?\n",
    "\n",
    "*This function should return a set of the node(s).*"
   ]
  },
  {
   "cell_type": "code",
   "execution_count": 98,
   "metadata": {
    "deletable": false,
    "nbgrader": {
     "cell_type": "code",
     "checksum": "2c38cb64d3e516dcc50440016c8cb052",
     "grade": false,
     "grade_id": "cell-fd3d43ea37da03f7",
     "locked": false,
     "schema_version": 3,
     "solution": true,
     "task": false
    }
   },
   "outputs": [],
   "source": [
    "def answer_ten():\n",
    "    \n",
    "    graph = answer_six()\n",
    "\n",
    "    \n",
    "    # nodes = nx.periphery(graph)\n",
    "        \n",
    "    nodes = nx.center(graph)    \n",
    "    # raise NotImplementedError()\n",
    "\n",
    "    \n",
    "    return set(nodes)\n",
    "\n",
    "# answer_ten()\n",
    "    "
   ]
  },
  {
   "cell_type": "code",
   "execution_count": null,
   "metadata": {
    "deletable": false,
    "editable": false,
    "nbgrader": {
     "cell_type": "code",
     "checksum": "ded9fe8dfa11fcf35d1a24b79b05eb84",
     "grade": true,
     "grade_id": "cell-bfd2ee304bc25264",
     "locked": true,
     "points": 1,
     "schema_version": 3,
     "solution": false,
     "task": false
    }
   },
   "outputs": [],
   "source": [
    "ans_ten = answer_ten()\n",
    "assert type(ans_ten) == set, \"Student answer must return a set\""
   ]
  },
  {
   "cell_type": "markdown",
   "metadata": {
    "deletable": false,
    "editable": false,
    "nbgrader": {
     "cell_type": "markdown",
     "checksum": "fdc93cbd0d6507be08ae4a08c63601b3",
     "grade": false,
     "grade_id": "cell-6f67b3e8a401bd59",
     "locked": true,
     "schema_version": 3,
     "solution": false,
     "task": false
    }
   },
   "source": [
    "### Question 11\n",
    "\n",
    "Which node in G_sc has the most shortest paths to other nodes whose distance equal the diameter of G_sc?\n",
    "\n",
    "\n",
    "For the node with the most such shortest paths, how many of these paths are there?\n",
    "\n",
    "\n",
    "*This function should return a tuple (name of node, number of paths).*"
   ]
  },
  {
   "cell_type": "code",
   "execution_count": 70,
   "metadata": {
    "deletable": false,
    "nbgrader": {
     "cell_type": "code",
     "checksum": "e6d4266def52169ee18f4e2599db3f63",
     "grade": false,
     "grade_id": "cell-c40858baf3d92139",
     "locked": false,
     "schema_version": 3,
     "solution": true,
     "task": false
    }
   },
   "outputs": [
    {
     "data": {
      "text/plain": [
       "(97, 63)"
      ]
     },
     "execution_count": 70,
     "metadata": {},
     "output_type": "execute_result"
    }
   ],
   "source": [
    "def answer_eleven():\n",
    "\n",
    "    graph = answer_six()\n",
    "    \n",
    "    periphery = nx.periphery(graph)\n",
    "    diam = nx.diameter(graph)\n",
    "    \n",
    "    \n",
    "    max_vert = max(periphery, key=lambda x: nx.descendants_at_distance(graph, x, diam))\n",
    "    path_lengths = [len(nx.descendants_at_distance(graph, vert, diam)) for vert in periphery]\n",
    "    \n",
    "    \n",
    "    # Test\n",
    "    # print(f'Is strongly connected: {nx.is_strongly_connected(graph)}')\n",
    "    # print(f'Is Multigraph: {graph.is_multigraph()}')\n",
    "    # print(f'Is directed: {graph.is_directed()}')\n",
    "    # print(f'Periphery set: {periphery}')\n",
    "    # print(f'Path length list: {path_lengths}')\n",
    "    \n",
    "    \n",
    "    # raise NotImplementedError()\n",
    "    return (max_vert, max(path_lengths))\n",
    "\n",
    "# answer_eleven()"
   ]
  },
  {
   "cell_type": "code",
   "execution_count": null,
   "metadata": {
    "deletable": false,
    "editable": false,
    "nbgrader": {
     "cell_type": "code",
     "checksum": "100df6e43868a8b5ae84b005e7323d4b",
     "grade": true,
     "grade_id": "cell-f79b06650f61cf37",
     "locked": true,
     "points": 1,
     "schema_version": 3,
     "solution": false,
     "task": false
    }
   },
   "outputs": [],
   "source": [
    "ans_eleven = answer_eleven()\n",
    "assert type(ans_eleven) == tuple, \"Student answer must be a tuple\""
   ]
  },
  {
   "cell_type": "markdown",
   "metadata": {
    "deletable": false,
    "editable": false,
    "nbgrader": {
     "cell_type": "markdown",
     "checksum": "d4ea9ad10fd48750b392e3afe72d8a31",
     "grade": false,
     "grade_id": "cell-50328c3bc155d0d3",
     "locked": true,
     "schema_version": 3,
     "solution": false,
     "task": false
    }
   },
   "source": [
    "### Question 12\n",
    "\n",
    "Suppose you want to prevent communication flow from the node that you found in question 11 to node 10. What is the smallest number of nodes you would need to remove from the graph (you're not allowed to remove the node from the previous question or 10)? \n",
    "\n",
    "*This function should return an integer.*"
   ]
  },
  {
   "cell_type": "code",
   "execution_count": 72,
   "metadata": {
    "deletable": false,
    "nbgrader": {
     "cell_type": "code",
     "checksum": "e58c4883b3f3d4ccd6101b8a30b09401",
     "grade": false,
     "grade_id": "cell-a4606db8971dcbba",
     "locked": false,
     "schema_version": 3,
     "solution": true,
     "task": false
    }
   },
   "outputs": [
    {
     "data": {
      "text/plain": [
       "1"
      ]
     },
     "execution_count": 72,
     "metadata": {},
     "output_type": "execute_result"
    }
   ],
   "source": [
    "def answer_twelve():\n",
    "\n",
    "    graph = answer_six()\n",
    "    source_vert = answer_eleven()[0]\n",
    "    \n",
    "    node_cut = nx.minimum_node_cut(graph, source_vert, 10)\n",
    "    \n",
    "    # raise NotImplementedError()\n",
    "    \n",
    "    \n",
    "    return len(node_cut)\n",
    "# answer_twelve()"
   ]
  },
  {
   "cell_type": "code",
   "execution_count": null,
   "metadata": {
    "deletable": false,
    "editable": false,
    "nbgrader": {
     "cell_type": "code",
     "checksum": "e37fc4b93c7e19b0cb9ad2f021a24d89",
     "grade": true,
     "grade_id": "cell-509cfa9f4136124d",
     "locked": true,
     "points": 1,
     "schema_version": 3,
     "solution": false,
     "task": false
    }
   },
   "outputs": [],
   "source": [
    "ans_twelve = answer_twelve()\n"
   ]
  },
  {
   "cell_type": "markdown",
   "metadata": {
    "deletable": false,
    "editable": false,
    "nbgrader": {
     "cell_type": "markdown",
     "checksum": "3dabb73f1ae896491ba33eac36f9ae70",
     "grade": false,
     "grade_id": "cell-f1b5f4e151b08d99",
     "locked": true,
     "schema_version": 3,
     "solution": false,
     "task": false
    }
   },
   "source": [
    "### Question 13\n",
    "\n",
    "Convert the graph G_sc into an undirected graph by removing the direction of the edges of G_sc. Call the new graph G_un. \n",
    "\n",
    "\n",
    "*This function should return a networkx Graph.*"
   ]
  },
  {
   "cell_type": "code",
   "execution_count": 78,
   "metadata": {
    "deletable": false,
    "nbgrader": {
     "cell_type": "code",
     "checksum": "54b64d828321e01f4e2d293e5e769dbb",
     "grade": false,
     "grade_id": "cell-612b40425f0851e8",
     "locked": false,
     "schema_version": 3,
     "solution": true,
     "task": false
    }
   },
   "outputs": [
    {
     "data": {
      "text/plain": [
       "networkx.classes.graph.Graph"
      ]
     },
     "execution_count": 78,
     "metadata": {},
     "output_type": "execute_result"
    }
   ],
   "source": [
    "def answer_thirteen():\n",
    "    \n",
    "    graph = answer_six()\n",
    "    \n",
    "    \n",
    "    # idea 1: return Multigraph (undirected)\n",
    "    G_un = graph.to_undirected()\n",
    "    \n",
    "    \n",
    "    # idea 2: return Graph (not multigraph)\n",
    "    # comment this out to return NultiGraph\n",
    "    G_un = nx.Graph(G_un)\n",
    "    \n",
    "    \n",
    "    \n",
    "    # Test\n",
    "    # print(f'Is strongly connected: {nx.is_strongly_connected(G_un)}')\n",
    "    # print(f'Is Multigraph: {G_un.is_multigraph()}')\n",
    "    # print(f'Is directed: {G_un.is_directed()}')\n",
    "    # print(f'Periphery set: {periphery}')\n",
    "    # print(f'Path length list: {path_lengths}')\n",
    "    # raise NotImplementedError()\n",
    "    \n",
    "    return G_un\n",
    "\n",
    "# type(answer_thirteen())"
   ]
  },
  {
   "cell_type": "code",
   "execution_count": null,
   "metadata": {
    "deletable": false,
    "editable": false,
    "nbgrader": {
     "cell_type": "code",
     "checksum": "90dfa7881219aafc65224944af557871",
     "grade": true,
     "grade_id": "cell-d1c0627a327cd774",
     "locked": true,
     "points": 0,
     "schema_version": 3,
     "solution": false,
     "task": false
    }
   },
   "outputs": [],
   "source": [
    "ans_thirteen = answer_thirteen()\n",
    "assert type(ans_thirteen) == nx.Graph , \"Your return type should be a Graph object\"\n"
   ]
  },
  {
   "cell_type": "markdown",
   "metadata": {
    "deletable": false,
    "editable": false,
    "nbgrader": {
     "cell_type": "markdown",
     "checksum": "f267a88a30024ef8031841ff102b0a10",
     "grade": false,
     "grade_id": "cell-ad5732399e4673ff",
     "locked": true,
     "schema_version": 3,
     "solution": false,
     "task": false
    }
   },
   "source": [
    "### Question 14\n",
    "\n",
    "What is the transitivity and average clustering coefficient of graph G_un?\n",
    "\n",
    "*This function should return a tuple (transitivity, avg clutering).*     \n",
    "*Note: DO NOT round up your answer.*"
   ]
  },
  {
   "cell_type": "code",
   "execution_count": 79,
   "metadata": {
    "deletable": false,
    "nbgrader": {
     "cell_type": "code",
     "checksum": "7fe3b9dbdfdc525e139239587b5312d7",
     "grade": false,
     "grade_id": "cell-63e48b1eed1a1fb8",
     "locked": false,
     "schema_version": 3,
     "solution": true,
     "task": false
    }
   },
   "outputs": [
    {
     "data": {
      "text/plain": [
       "(0.570111160700385, 0.6975272437231418)"
      ]
     },
     "execution_count": 79,
     "metadata": {},
     "output_type": "execute_result"
    }
   ],
   "source": [
    "def answer_fourteen():\n",
    "    \n",
    "    G_un = answer_thirteen()\n",
    "    \n",
    "    trans = nx.transitivity(G_un)\n",
    "    \n",
    "    av_clust = nx.average_clustering(G_un)\n",
    "    \n",
    "    # raise NotImplementedError()\n",
    "    \n",
    "    return (trans, av_clust)\n",
    "\n",
    "# answer_fourteen()"
   ]
  },
  {
   "cell_type": "code",
   "execution_count": null,
   "metadata": {
    "deletable": false,
    "editable": false,
    "nbgrader": {
     "cell_type": "code",
     "checksum": "f3c37528892737578632bec42aefb80d",
     "grade": true,
     "grade_id": "cell-41dda91202f58e7e",
     "locked": true,
     "points": 1,
     "schema_version": 3,
     "solution": false,
     "task": false
    }
   },
   "outputs": [],
   "source": [
    "ans_fourteen = answer_fourteen()\n",
    "assert type(ans_fourteen) == tuple, \"Student answer must be a tuple\"\n"
   ]
  }
 ],
 "metadata": {
  "coursera": {
   "schema_names": [
    "mooc_adswpy_v1_assignment2"
   ]
  },
  "kernelspec": {
   "display_name": "Python 3 (ipykernel)",
   "language": "python",
   "name": "python3"
  },
  "language_info": {
   "codemirror_mode": {
    "name": "ipython",
    "version": 3
   },
   "file_extension": ".py",
   "mimetype": "text/x-python",
   "name": "python",
   "nbconvert_exporter": "python",
   "pygments_lexer": "ipython3",
   "version": "3.8.10"
  }
 },
 "nbformat": 4,
 "nbformat_minor": 4
}
